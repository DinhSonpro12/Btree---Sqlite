{
  "nbformat": 4,
  "nbformat_minor": 0,
  "metadata": {
    "colab": {
      "name": "Untitled0.ipynb",
      "provenance": [],
      "collapsed_sections": [],
      "include_colab_link": true
    },
    "kernelspec": {
      "name": "python3",
      "display_name": "Python 3"
    },
    "language_info": {
      "name": "python"
    }
  },
  "cells": [
    {
      "cell_type": "markdown",
      "metadata": {
        "id": "view-in-github",
        "colab_type": "text"
      },
      "source": [
        "<a href=\"https://colab.research.google.com/github/DinhSonpro12/Btree---Sqlite/blob/main/Untitled0.ipynb\" target=\"_parent\"><img src=\"https://colab.research.google.com/assets/colab-badge.svg\" alt=\"Open In Colab\"/></a>"
      ]
    },
    {
      "cell_type": "code",
      "metadata": {
        "id": "sQiK2zwG32lr"
      },
      "source": [
        "a = [ int(x) for x in input()]\n",
        "\n",
        "def kt (mang, sc):\n",
        "  if mang + sc <= 9:\n",
        "    return kt(mang + sc,sc)\n",
        "  else:\n",
        "    return mang \n",
        "\n",
        "co1 = 0\n",
        "\n",
        "m = ''.join(str(x) for x in a)\n",
        "\n",
        "i = int(m)%3\n",
        "\n",
        "\n",
        "# phần 1\n",
        "\n",
        "# chia hết\n",
        "if(i == 0 ):\n",
        "  for j in range(len(a)):\n",
        "    if(a[j] == kt(a[j], 3)):\n",
        "      continue\n",
        "    else:\n",
        "      a[j] = kt(a[j], 3)\n",
        "      co1 = 1\n",
        "      break\n",
        "\n",
        "\n",
        "# chia dư 1\n",
        "if(i == 1):\n",
        "  for j in range(len(a)):\n",
        "    if a[j] + 2 <= 9:\n",
        "      if(a[j] + 2 == kt(a[j] + 2, 3)):\n",
        "        a[j] += 2\n",
        "        co1 = 1\n",
        "        break\n",
        "      else:\n",
        "        a[j] = kt(a[j] + 2, 3)\n",
        "        co1 = 1\n",
        "        break\n",
        "\n",
        "\n",
        "# chia dư 2\n",
        "if(i == 2):\n",
        "  for j in range(len(a)):\n",
        "    if a[j] + 1 <= 9:\n",
        "      if(a[j] + 1 == kt(a[j] + 1, 3)):\n",
        "        a[j] += 1\n",
        "        co1 = 1\n",
        "        break\n",
        "      else:\n",
        "        a[j] = kt(a[j] + 1, 3)\n",
        "        co1 = 1\n",
        "        break    \n",
        "\n",
        "\n",
        "# phần 2 \n",
        "\n",
        "if co1 != 1:\n",
        "  if i == 0:\n",
        "    for i in range (len(a)-1, -1, -1):\n",
        "      if a[i] - 3 > 0:\n",
        "        a[i] -= 3\n",
        "        break\n",
        "  elif i == 1:\n",
        "    for i in range (len(a)-1, -1, -1):\n",
        "      if a[i] - 1 > 0:\n",
        "        a[i] -= 1\n",
        "        break\n",
        "  else:\n",
        "    for i in range (len(a)-1, -1, -1):\n",
        "      if a[i] - 2 > 0:\n",
        "        a[i] -= 2\n",
        "        break\n",
        "\n",
        "print(int(''.join(str(x) for x in a)))"
      ],
      "execution_count": null,
      "outputs": []
    },
    {
      "cell_type": "code",
      "metadata": {
        "id": "QD-Dvo944zrw"
      },
      "source": [
        ""
      ],
      "execution_count": null,
      "outputs": []
    },
    {
      "cell_type": "code",
      "metadata": {
        "id": "2OctUZXXAVE9"
      },
      "source": [
        "n = []\n",
        "\n",
        "for i in range(3):\n",
        "  n.append([])\n",
        "  x = [int(x) for x in input()]\n",
        "  n.append(x)\n",
        "for i in range(3):\n",
        "  print(n[i])"
      ],
      "execution_count": null,
      "outputs": []
    },
    {
      "cell_type": "code",
      "metadata": {
        "id": "dH1bR52T9jsx"
      },
      "source": [
        "x = [1,2,3]\n",
        "print(x)\n",
        "t = ''.join(str(i) for i in x )\n",
        "\n",
        "print(t)\n",
        "if(1 == 1):b = []\n",
        "for t in range(21):\n",
        "  b.append([])\n",
        "  b[t] = map(int, input())\n",
        "  \n",
        "\n",
        "for m in range(21):\n",
        "  a = b[m]\n",
        "  def kt (mang, sc):\n",
        "    if mang + sc <= 9:\n",
        "…\n",
        "  for i in range(len(x)):\n",
        "    if(i == 1):\n",
        "      print (i)\n",
        "      break\n",
        "  print(1,3)\n",
        "    \n"
      ],
      "execution_count": null,
      "outputs": []
    },
    {
      "cell_type": "markdown",
      "metadata": {
        "id": "R0uKYqZEzRcO"
      },
      "source": [
        "nhâp vào n \n",
        "nếu n chia hết cho 3 cộng 3 vào số hàng lớn nhất \n",
        "- cộng vào số đó phải < 9\n",
        "-  \n",
        "\n",
        "n du 2 công 1\n",
        "- cộng vào phaỉ < 9\n",
        "\n",
        "\n",
        "du 1 cong 2 \n",
        "- cộng vào phải < 9\n",
        "\n",
        "\n",
        "\n",
        "\n",
        "\n"
      ]
    },
    {
      "cell_type": "markdown",
      "metadata": {
        "id": "XacHzzLJuWQw"
      },
      "source": [
        "\n",
        "\n",
        "> I\n",
        "\n",
        "\n",
        "\n",
        "\n",
        "Để đánh giá kết quả khi áp dụng Linear Regression chúng ta có một phương thức là score(), phương thức này trả về một hệ số xác định cho R^2. Trong đó, R^2 được tính bằng công thức 1 - u/v với:\n",
        "\n",
        "u = ((y_true - y_pred)^2).sum() là tổng bình phương các độ lệch.\n",
        "v = ((y_true - y_true.mean())^2).sum()\n",
        "Giá trị tốt nhất là 1.0, giá trị này có thể âm.\n"
      ]
    },
    {
      "cell_type": "code",
      "metadata": {
        "id": "t66Pde07Ai1K",
        "colab": {
          "base_uri": "https://localhost:8080/",
          "height": 248
        },
        "outputId": "194a128c-e3ef-4d27-f810-8f46eb2e780e"
      },
      "source": [
        "\n",
        "# 1111111\n",
        "# 222222\n",
        "# 33333\n",
        "\n",
        "\n",
        "import numpy as np\n",
        "import sklearn \n",
        "from sklearn import linear_model\n",
        "\n",
        "import matplotlib.pyplot as plt\n",
        "\n",
        "\n",
        "a = np.loadtxt('/data.txt', delimiter=',')\n",
        "\n",
        "# np.around(a,decimals = 1)\n",
        "\n",
        "x = np.copy(a[:,0])\n",
        "y = np.copy(a[:,1])\n",
        "x = x.reshape(-1,1)\n",
        "y = y.reshape(-1,1)\n",
        "\n",
        "md = linear_model.LinearRegression()\n",
        "md.fit(x,y)\n",
        "\n",
        "\n",
        "print(md.coef_,md.intercept_)\n",
        "\n",
        "\n",
        "# đánh giá phương pháp\n",
        "print(md.score(x,y))\n",
        "\n",
        "# np.savetxt(\"save.txt\",x,fmt = '%.2f')\n",
        "\n",
        "\n"
      ],
      "execution_count": null,
      "outputs": [
        {
          "output_type": "stream",
          "text": [
            "[[2.84060707e-07]] [-0.05459093]\n"
          ],
          "name": "stdout"
        },
        {
          "output_type": "error",
          "ename": "TypeError",
          "evalue": "ignored",
          "traceback": [
            "\u001b[0;31m---------------------------------------------------------------------------\u001b[0m",
            "\u001b[0;31mTypeError\u001b[0m                                 Traceback (most recent call last)",
            "\u001b[0;32m<ipython-input-36-506ddbbeb0c6>\u001b[0m in \u001b[0;36m<module>\u001b[0;34m()\u001b[0m\n\u001b[1;32m     26\u001b[0m \u001b[0;34m\u001b[0m\u001b[0m\n\u001b[1;32m     27\u001b[0m \u001b[0mprint\u001b[0m\u001b[0;34m(\u001b[0m\u001b[0mmd\u001b[0m\u001b[0;34m.\u001b[0m\u001b[0mcoef_\u001b[0m\u001b[0;34m,\u001b[0m\u001b[0mmd\u001b[0m\u001b[0;34m.\u001b[0m\u001b[0mintercept_\u001b[0m\u001b[0;34m)\u001b[0m\u001b[0;34m\u001b[0m\u001b[0;34m\u001b[0m\u001b[0m\n\u001b[0;32m---> 28\u001b[0;31m \u001b[0mprint\u001b[0m\u001b[0;34m(\u001b[0m\u001b[0mmd\u001b[0m\u001b[0;34m[\u001b[0m\u001b[0;36m1\u001b[0m\u001b[0;34m,\u001b[0m\u001b[0;36m0\u001b[0m\u001b[0;34m]\u001b[0m\u001b[0;34m)\u001b[0m\u001b[0;34m\u001b[0m\u001b[0;34m\u001b[0m\u001b[0m\n\u001b[0m\u001b[1;32m     29\u001b[0m \u001b[0;34m\u001b[0m\u001b[0m\n\u001b[1;32m     30\u001b[0m \u001b[0;31m# đánh giá phương pháp\u001b[0m\u001b[0;34m\u001b[0m\u001b[0;34m\u001b[0m\u001b[0;34m\u001b[0m\u001b[0m\n",
            "\u001b[0;31mTypeError\u001b[0m: 'LinearRegression' object is not subscriptable"
          ]
        }
      ]
    },
    {
      "cell_type": "markdown",
      "metadata": {
        "id": "mN-IhwK7zKKJ"
      },
      "source": [
        "3 ví dụ về ứng dụng của linear regression:\n",
        "\n",
        "+1) Dự đoán lượng mưa của ngày tiếp theo:\n",
        "- input: nhiệt độ, độ ẩm,.. của ngày hôm nay \n",
        "- output: lượng mưa dự đoán của ngày hôm sau \n",
        "- cách xử lý input: lưu các giá trị số thực của input vào 1 vecto\n",
        "\n",
        "\n",
        "+2) Dự đoán "
      ]
    },
    {
      "cell_type": "code",
      "metadata": {
        "colab": {
          "base_uri": "https://localhost:8080/"
        },
        "id": "5GnG5Sjcvudk",
        "outputId": "cac3a1e7-c688-4ba7-d499-506059c83d84"
      },
      "source": [
        "import numpy as np \n",
        "\n",
        "\n",
        "X = np.array([[147, 150, 153, 158, 163, 165, 168, 170, 173, 175, 178, 180, 183]]).T\n",
        "# weight (kg)\n",
        "y = np.array([[ 49, 50, 51,  54, 58, 59, 60, 62, 63, 64, 66, 67, 68]]).T\n",
        "# Visualize data \n",
        "\n",
        "\n",
        "# one = np.ones((X.shape[0], 1))\n",
        "# Xbar = np.concatenate((one, X), axis = 1)\n",
        "\n",
        "# from sklearn import datasets, linear_model\n",
        "\n",
        "# # # fit the model by Linear Regression\n",
        "# regr = linear_model.LinearRegression(fit_intercept=False) # fit_intercept = False for calculating the bias\n",
        "# regr.fit(Xbar, y)\n",
        "\n",
        "bt = linear_model.LinearRegression()\n",
        "bt.fit(X,y)\n",
        "\n",
        "# print(regr.coef_)\n",
        "print(bt.intercept_,bt.coef_)\n",
        "\n",
        "\n"
      ],
      "execution_count": null,
      "outputs": [
        {
          "output_type": "stream",
          "text": [
            "[-33.73541021] [[0.55920496]]\n"
          ],
          "name": "stdout"
        }
      ]
    },
    {
      "cell_type": "code",
      "metadata": {
        "id": "w5eSZp2yhwqs"
      },
      "source": [
        ""
      ],
      "execution_count": null,
      "outputs": []
    },
    {
      "cell_type": "code",
      "metadata": {
        "id": "CK99u2uBJ9bj"
      },
      "source": [
        "from google.colab import drive\n",
        "drive.mount('/content/drive')"
      ],
      "execution_count": null,
      "outputs": []
    }
  ]
}